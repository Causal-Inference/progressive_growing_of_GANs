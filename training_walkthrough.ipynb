{
 "cells": [
  {
   "cell_type": "code",
   "execution_count": 1,
   "metadata": {},
   "outputs": [],
   "source": [
    "from __future__ import print_function\n",
    "from __future__ import division\n",
    "\n",
    "import matplotlib.pyplot as plt\n",
    "import numpy as np\n",
    "import math\n",
    "\n",
    "from config import cfg\n",
    "from net import DCGAN\n",
    "import tensorflow as tf"
   ]
  },
  {
   "cell_type": "markdown",
   "metadata": {},
   "source": [
    "### Set parameters  \n",
    "All the parameters can be found in `config.py`"
   ]
  },
  {
   "cell_type": "code",
   "execution_count": 2,
   "metadata": {},
   "outputs": [],
   "source": [
    "cfg.beta1 = 0.\n",
    "cfg.beta2 = 0.99\n",
    "cfg.batch_size = 16\n",
    "cfg.save_period = 1000\n",
    "cfg.display_period = 100\n",
    "cfg.n_iters = 20000\n",
    "cfg.n_critic = 1\n",
    "cfg.learning_rate = 0.001\n",
    "cfg.norm_g = 'pixel_norm'\n",
    "cfg.norm_d = None\n",
    "cfg.weight_scale = True\n",
    "cfg.drift_loss = True\n",
    "cfg.loss_mode = 'wgan_gp'\n",
    "cfg.use_tanh = True\n",
    "cfg.save_images = True"
   ]
  },
  {
   "cell_type": "markdown",
   "metadata": {},
   "source": [
    "### Step-1 : Train at 8x8 resolution\n",
    "In the paper, they start with 4x4 resolution but it doesn't matter"
   ]
  },
  {
   "cell_type": "code",
   "execution_count": null,
   "metadata": {},
   "outputs": [],
   "source": [
    "cfg.resolution = 8\n",
    "cfg.transition = False\n",
    "cfg.load_model = None\n",
    "\n",
    "model = DCGAN(cfg)\n",
    "model.train()"
   ]
  },
  {
   "cell_type": "markdown",
   "metadata": {},
   "source": [
    "### Step-2 : Transition from 8x8 to 16x16 resolution (fading)\n",
    "Note that this step will automatically load model from 8x8 resolution (`models/8x8`). So, you can leave `cfg.load_model = None`."
   ]
  },
  {
   "cell_type": "code",
   "execution_count": null,
   "metadata": {},
   "outputs": [],
   "source": [
    "cfg.resolution = 16\n",
    "cfg.transition = True\n",
    "cfg.load_model = None\n",
    "\n",
    "model = DCGAN(cfg)\n",
    "model.train()"
   ]
  },
  {
   "cell_type": "markdown",
   "metadata": {},
   "source": [
    "### Step-3 : Train at  16x16 resolution\n",
    "Now, you must load model from previous step to continue. Model from previous step is saved in `models/16x16_transition`, so we set `cfg.load_model = '16x16_transition`."
   ]
  },
  {
   "cell_type": "code",
   "execution_count": null,
   "metadata": {},
   "outputs": [],
   "source": [
    "cfg.resolution = 16\n",
    "cfg.transition = False\n",
    "cfg.load_model = '16x16_transition'\n",
    "\n",
    "model = DCGAN(cfg)\n",
    "model.train()"
   ]
  },
  {
   "cell_type": "markdown",
   "metadata": {},
   "source": [
    "### Step-4 : Transition from 16x16 to 32x32 resolution (fading)\n",
    "Again, this step will automatically load model from `models/16x16`."
   ]
  },
  {
   "cell_type": "code",
   "execution_count": null,
   "metadata": {},
   "outputs": [],
   "source": [
    "cfg.resolution = 32\n",
    "cfg.transition = True\n",
    "cfg.load_model = None\n",
    "\n",
    "model = DCGAN(cfg)\n",
    "model.train()"
   ]
  },
  {
   "cell_type": "markdown",
   "metadata": {},
   "source": [
    "### Step-5 : Train at  32x32 resolution\n",
    "Now, we load model from previous step saved in `models/32x32_transition`"
   ]
  },
  {
   "cell_type": "code",
   "execution_count": null,
   "metadata": {},
   "outputs": [],
   "source": [
    "cfg.resolution = 32\n",
    "cfg.transition = False\n",
    "cfg.load_model = '32x32_transition'\n",
    "\n",
    "model = DCGAN(cfg)\n",
    "model.train()"
   ]
  },
  {
   "cell_type": "markdown",
   "metadata": {},
   "source": [
    "Hopefully, you get the idea now. So you can continue this process to higher resolutions. "
   ]
  },
  {
   "cell_type": "code",
   "execution_count": null,
   "metadata": {},
   "outputs": [],
   "source": []
  }
 ],
 "metadata": {
  "kernelspec": {
   "display_name": "Python 2",
   "language": "python",
   "name": "python2"
  },
  "language_info": {
   "codemirror_mode": {
    "name": "ipython",
    "version": 2
   },
   "file_extension": ".py",
   "mimetype": "text/x-python",
   "name": "python",
   "nbconvert_exporter": "python",
   "pygments_lexer": "ipython2",
   "version": "2.7.12"
  }
 },
 "nbformat": 4,
 "nbformat_minor": 2
}
